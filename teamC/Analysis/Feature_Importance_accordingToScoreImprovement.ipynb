{
  "cells": [
    {
      "cell_type": "code",
      "execution_count": 1,
      "metadata": {
        "colab": {
          "base_uri": "https://localhost:8080/"
        },
        "id": "eWsEds7vosV0",
        "outputId": "841d0124-a41b-4a3c-880c-3e92adb75d80"
      },
      "outputs": [
        {
          "output_type": "stream",
          "name": "stdout",
          "text": [
            "Mounted at /content/drive\n"
          ]
        }
      ],
      "source": [
        "from google.colab import drive\n",
        "drive.mount('/content/drive')"
      ]
    },
    {
      "cell_type": "code",
      "execution_count": 2,
      "metadata": {
        "id": "7YczWg5fo0zP"
      },
      "outputs": [],
      "source": [
        "import pandas as pd\n",
        "import numpy as np\n",
        "import matplotlib.pyplot as plt\n",
        "import seaborn as sns"
      ]
    },
    {
      "cell_type": "markdown",
      "metadata": {
        "id": "APKJaO9Tl4Hd"
      },
      "source": [
        "# 1. 데이터 불러오기"
      ]
    },
    {
      "cell_type": "code",
      "execution_count": 3,
      "metadata": {
        "id": "YUufolmHozV4",
        "colab": {
          "base_uri": "https://localhost:8080/",
          "height": 0
        },
        "outputId": "11bdca88-5cbb-4b34-e075-234e7bca12ab"
      },
      "outputs": [
        {
          "output_type": "execute_result",
          "data": {
            "text/plain": [
              "   Unnamed: 0 student_id  solve_date  p_num  p_level_mean  p_level_std  \\\n",
              "0           1    I100008  2020-11-14   27.0      3.148148     0.863967   \n",
              "1           2    I100008  2020-11-16   12.0      2.833333     0.577350   \n",
              "2           3    I100008  2020-11-18   20.0      3.450000     0.686333   \n",
              "3           4    I100008  2020-11-20    2.0      2.500000     0.707107   \n",
              "4           5    I100008  2020-11-21   22.0      2.772727     0.528413   \n",
              "\n",
              "   unique_seq_rate   seq_std  unique_name_rate  correct_rate_mean  \\\n",
              "0         0.518519  4.471499          1.000000          53.055867   \n",
              "1         0.583333  4.407294          0.666667          53.233033   \n",
              "2         0.500000  4.181413          0.750000          49.363020   \n",
              "3         1.000000  4.949747          1.000000          63.278700   \n",
              "4         0.500000  5.038381          0.500000          57.228364   \n",
              "\n",
              "   correct_rate_std  type1_rate  type2_rate  type3_rate  type4_rate     score  \n",
              "0         17.449039         0.0    0.518519         0.0         0.0  4.221825  \n",
              "1         17.336359         0.0    0.583333         0.0         0.0 -0.780844  \n",
              "2         13.081781         0.0    0.700000         0.0         0.0 -5.844156  \n",
              "3         22.609032         0.0    0.000000         0.0         0.0  3.333333  \n",
              "4         12.353609         0.0    0.590909         0.0         0.0  0.596491  "
            ],
            "text/html": [
              "\n",
              "  <div id=\"df-e9c45500-9d80-453d-8cee-a9facac06c86\">\n",
              "    <div class=\"colab-df-container\">\n",
              "      <div>\n",
              "<style scoped>\n",
              "    .dataframe tbody tr th:only-of-type {\n",
              "        vertical-align: middle;\n",
              "    }\n",
              "\n",
              "    .dataframe tbody tr th {\n",
              "        vertical-align: top;\n",
              "    }\n",
              "\n",
              "    .dataframe thead th {\n",
              "        text-align: right;\n",
              "    }\n",
              "</style>\n",
              "<table border=\"1\" class=\"dataframe\">\n",
              "  <thead>\n",
              "    <tr style=\"text-align: right;\">\n",
              "      <th></th>\n",
              "      <th>Unnamed: 0</th>\n",
              "      <th>student_id</th>\n",
              "      <th>solve_date</th>\n",
              "      <th>p_num</th>\n",
              "      <th>p_level_mean</th>\n",
              "      <th>p_level_std</th>\n",
              "      <th>unique_seq_rate</th>\n",
              "      <th>seq_std</th>\n",
              "      <th>unique_name_rate</th>\n",
              "      <th>correct_rate_mean</th>\n",
              "      <th>correct_rate_std</th>\n",
              "      <th>type1_rate</th>\n",
              "      <th>type2_rate</th>\n",
              "      <th>type3_rate</th>\n",
              "      <th>type4_rate</th>\n",
              "      <th>score</th>\n",
              "    </tr>\n",
              "  </thead>\n",
              "  <tbody>\n",
              "    <tr>\n",
              "      <th>0</th>\n",
              "      <td>1</td>\n",
              "      <td>I100008</td>\n",
              "      <td>2020-11-14</td>\n",
              "      <td>27.0</td>\n",
              "      <td>3.148148</td>\n",
              "      <td>0.863967</td>\n",
              "      <td>0.518519</td>\n",
              "      <td>4.471499</td>\n",
              "      <td>1.000000</td>\n",
              "      <td>53.055867</td>\n",
              "      <td>17.449039</td>\n",
              "      <td>0.0</td>\n",
              "      <td>0.518519</td>\n",
              "      <td>0.0</td>\n",
              "      <td>0.0</td>\n",
              "      <td>4.221825</td>\n",
              "    </tr>\n",
              "    <tr>\n",
              "      <th>1</th>\n",
              "      <td>2</td>\n",
              "      <td>I100008</td>\n",
              "      <td>2020-11-16</td>\n",
              "      <td>12.0</td>\n",
              "      <td>2.833333</td>\n",
              "      <td>0.577350</td>\n",
              "      <td>0.583333</td>\n",
              "      <td>4.407294</td>\n",
              "      <td>0.666667</td>\n",
              "      <td>53.233033</td>\n",
              "      <td>17.336359</td>\n",
              "      <td>0.0</td>\n",
              "      <td>0.583333</td>\n",
              "      <td>0.0</td>\n",
              "      <td>0.0</td>\n",
              "      <td>-0.780844</td>\n",
              "    </tr>\n",
              "    <tr>\n",
              "      <th>2</th>\n",
              "      <td>3</td>\n",
              "      <td>I100008</td>\n",
              "      <td>2020-11-18</td>\n",
              "      <td>20.0</td>\n",
              "      <td>3.450000</td>\n",
              "      <td>0.686333</td>\n",
              "      <td>0.500000</td>\n",
              "      <td>4.181413</td>\n",
              "      <td>0.750000</td>\n",
              "      <td>49.363020</td>\n",
              "      <td>13.081781</td>\n",
              "      <td>0.0</td>\n",
              "      <td>0.700000</td>\n",
              "      <td>0.0</td>\n",
              "      <td>0.0</td>\n",
              "      <td>-5.844156</td>\n",
              "    </tr>\n",
              "    <tr>\n",
              "      <th>3</th>\n",
              "      <td>4</td>\n",
              "      <td>I100008</td>\n",
              "      <td>2020-11-20</td>\n",
              "      <td>2.0</td>\n",
              "      <td>2.500000</td>\n",
              "      <td>0.707107</td>\n",
              "      <td>1.000000</td>\n",
              "      <td>4.949747</td>\n",
              "      <td>1.000000</td>\n",
              "      <td>63.278700</td>\n",
              "      <td>22.609032</td>\n",
              "      <td>0.0</td>\n",
              "      <td>0.000000</td>\n",
              "      <td>0.0</td>\n",
              "      <td>0.0</td>\n",
              "      <td>3.333333</td>\n",
              "    </tr>\n",
              "    <tr>\n",
              "      <th>4</th>\n",
              "      <td>5</td>\n",
              "      <td>I100008</td>\n",
              "      <td>2020-11-21</td>\n",
              "      <td>22.0</td>\n",
              "      <td>2.772727</td>\n",
              "      <td>0.528413</td>\n",
              "      <td>0.500000</td>\n",
              "      <td>5.038381</td>\n",
              "      <td>0.500000</td>\n",
              "      <td>57.228364</td>\n",
              "      <td>12.353609</td>\n",
              "      <td>0.0</td>\n",
              "      <td>0.590909</td>\n",
              "      <td>0.0</td>\n",
              "      <td>0.0</td>\n",
              "      <td>0.596491</td>\n",
              "    </tr>\n",
              "  </tbody>\n",
              "</table>\n",
              "</div>\n",
              "      <button class=\"colab-df-convert\" onclick=\"convertToInteractive('df-e9c45500-9d80-453d-8cee-a9facac06c86')\"\n",
              "              title=\"Convert this dataframe to an interactive table.\"\n",
              "              style=\"display:none;\">\n",
              "        \n",
              "  <svg xmlns=\"http://www.w3.org/2000/svg\" height=\"24px\"viewBox=\"0 0 24 24\"\n",
              "       width=\"24px\">\n",
              "    <path d=\"M0 0h24v24H0V0z\" fill=\"none\"/>\n",
              "    <path d=\"M18.56 5.44l.94 2.06.94-2.06 2.06-.94-2.06-.94-.94-2.06-.94 2.06-2.06.94zm-11 1L8.5 8.5l.94-2.06 2.06-.94-2.06-.94L8.5 2.5l-.94 2.06-2.06.94zm10 10l.94 2.06.94-2.06 2.06-.94-2.06-.94-.94-2.06-.94 2.06-2.06.94z\"/><path d=\"M17.41 7.96l-1.37-1.37c-.4-.4-.92-.59-1.43-.59-.52 0-1.04.2-1.43.59L10.3 9.45l-7.72 7.72c-.78.78-.78 2.05 0 2.83L4 21.41c.39.39.9.59 1.41.59.51 0 1.02-.2 1.41-.59l7.78-7.78 2.81-2.81c.8-.78.8-2.07 0-2.86zM5.41 20L4 18.59l7.72-7.72 1.47 1.35L5.41 20z\"/>\n",
              "  </svg>\n",
              "      </button>\n",
              "      \n",
              "  <style>\n",
              "    .colab-df-container {\n",
              "      display:flex;\n",
              "      flex-wrap:wrap;\n",
              "      gap: 12px;\n",
              "    }\n",
              "\n",
              "    .colab-df-convert {\n",
              "      background-color: #E8F0FE;\n",
              "      border: none;\n",
              "      border-radius: 50%;\n",
              "      cursor: pointer;\n",
              "      display: none;\n",
              "      fill: #1967D2;\n",
              "      height: 32px;\n",
              "      padding: 0 0 0 0;\n",
              "      width: 32px;\n",
              "    }\n",
              "\n",
              "    .colab-df-convert:hover {\n",
              "      background-color: #E2EBFA;\n",
              "      box-shadow: 0px 1px 2px rgba(60, 64, 67, 0.3), 0px 1px 3px 1px rgba(60, 64, 67, 0.15);\n",
              "      fill: #174EA6;\n",
              "    }\n",
              "\n",
              "    [theme=dark] .colab-df-convert {\n",
              "      background-color: #3B4455;\n",
              "      fill: #D2E3FC;\n",
              "    }\n",
              "\n",
              "    [theme=dark] .colab-df-convert:hover {\n",
              "      background-color: #434B5C;\n",
              "      box-shadow: 0px 1px 3px 1px rgba(0, 0, 0, 0.15);\n",
              "      filter: drop-shadow(0px 1px 2px rgba(0, 0, 0, 0.3));\n",
              "      fill: #FFFFFF;\n",
              "    }\n",
              "  </style>\n",
              "\n",
              "      <script>\n",
              "        const buttonEl =\n",
              "          document.querySelector('#df-e9c45500-9d80-453d-8cee-a9facac06c86 button.colab-df-convert');\n",
              "        buttonEl.style.display =\n",
              "          google.colab.kernel.accessAllowed ? 'block' : 'none';\n",
              "\n",
              "        async function convertToInteractive(key) {\n",
              "          const element = document.querySelector('#df-e9c45500-9d80-453d-8cee-a9facac06c86');\n",
              "          const dataTable =\n",
              "            await google.colab.kernel.invokeFunction('convertToInteractive',\n",
              "                                                     [key], {});\n",
              "          if (!dataTable) return;\n",
              "\n",
              "          const docLinkHtml = 'Like what you see? Visit the ' +\n",
              "            '<a target=\"_blank\" href=https://colab.research.google.com/notebooks/data_table.ipynb>data table notebook</a>'\n",
              "            + ' to learn more about interactive tables.';\n",
              "          element.innerHTML = '';\n",
              "          dataTable['output_type'] = 'display_data';\n",
              "          await google.colab.output.renderOutput(dataTable, element);\n",
              "          const docLink = document.createElement('div');\n",
              "          docLink.innerHTML = docLinkHtml;\n",
              "          element.appendChild(docLink);\n",
              "        }\n",
              "      </script>\n",
              "    </div>\n",
              "  </div>\n",
              "  "
            ]
          },
          "metadata": {},
          "execution_count": 3
        }
      ],
      "source": [
        "# 저장된 데이터 불러오기\n",
        "\n",
        "path = '/content/drive/MyDrive/teamC/코드/남훈/data.csv'\n",
        "\n",
        "data = pd.read_csv(path)\n",
        "data.head()"
      ]
    },
    {
      "cell_type": "code",
      "source": [
        "data.shape"
      ],
      "metadata": {
        "colab": {
          "base_uri": "https://localhost:8080/"
        },
        "id": "AE_qvJbQp2e8",
        "outputId": "463f7e75-9c52-448d-c3e0-7b67f3cbcf1d"
      },
      "execution_count": 4,
      "outputs": [
        {
          "output_type": "execute_result",
          "data": {
            "text/plain": [
              "(237764, 16)"
            ]
          },
          "metadata": {},
          "execution_count": 4
        }
      ]
    },
    {
      "cell_type": "code",
      "execution_count": 5,
      "metadata": {
        "id": "7dNTwkNll4Hd",
        "outputId": "1296a92d-0f96-4f4a-b25c-26812ccfcd49",
        "colab": {
          "base_uri": "https://localhost:8080/"
        }
      },
      "outputs": [
        {
          "output_type": "execute_result",
          "data": {
            "text/plain": [
              "Unnamed: 0           0\n",
              "student_id           0\n",
              "solve_date           0\n",
              "p_num                0\n",
              "p_level_mean         0\n",
              "p_level_std          0\n",
              "unique_seq_rate      0\n",
              "seq_std              0\n",
              "unique_name_rate     0\n",
              "correct_rate_mean    0\n",
              "correct_rate_std     0\n",
              "type1_rate           0\n",
              "type2_rate           0\n",
              "type3_rate           0\n",
              "type4_rate           0\n",
              "score                0\n",
              "dtype: int64"
            ]
          },
          "metadata": {},
          "execution_count": 5
        }
      ],
      "source": [
        "# 확인해보니 std관련되어서 null값이 있다. 따라서 해당되는 것들을 다시 제거해주자.\n",
        "\n",
        "data = data.dropna(axis=0)\n",
        "data.isnull().sum()"
      ]
    },
    {
      "cell_type": "code",
      "source": [
        "data.shape # 확실히 null이 있는 행이 제거되었다."
      ],
      "metadata": {
        "colab": {
          "base_uri": "https://localhost:8080/"
        },
        "id": "DK02t4ezqGau",
        "outputId": "d63ae556-1533-45b9-ca08-4b5cc6ff1e2e"
      },
      "execution_count": 6,
      "outputs": [
        {
          "output_type": "execute_result",
          "data": {
            "text/plain": [
              "(236503, 16)"
            ]
          },
          "metadata": {},
          "execution_count": 6
        }
      ]
    },
    {
      "cell_type": "code",
      "execution_count": 7,
      "metadata": {
        "id": "1RuXghHPl4Hd",
        "outputId": "650de5f0-983b-4382-eaa1-e8a88a2a337a",
        "colab": {
          "base_uri": "https://localhost:8080/",
          "height": 0
        }
      },
      "outputs": [
        {
          "output_type": "execute_result",
          "data": {
            "text/plain": [
              "   p_num  p_level_mean  p_level_std  unique_seq_rate   seq_std  \\\n",
              "0   27.0      3.148148     0.863967         0.518519  4.471499   \n",
              "\n",
              "   unique_name_rate  correct_rate_mean  correct_rate_std  type1_rate  \\\n",
              "0               1.0          53.055867         17.449039         0.0   \n",
              "\n",
              "   type2_rate  type3_rate  type4_rate  \n",
              "0    0.518519         0.0         0.0  "
            ],
            "text/html": [
              "\n",
              "  <div id=\"df-7e9aa0e0-e64c-443a-a372-583343947918\">\n",
              "    <div class=\"colab-df-container\">\n",
              "      <div>\n",
              "<style scoped>\n",
              "    .dataframe tbody tr th:only-of-type {\n",
              "        vertical-align: middle;\n",
              "    }\n",
              "\n",
              "    .dataframe tbody tr th {\n",
              "        vertical-align: top;\n",
              "    }\n",
              "\n",
              "    .dataframe thead th {\n",
              "        text-align: right;\n",
              "    }\n",
              "</style>\n",
              "<table border=\"1\" class=\"dataframe\">\n",
              "  <thead>\n",
              "    <tr style=\"text-align: right;\">\n",
              "      <th></th>\n",
              "      <th>p_num</th>\n",
              "      <th>p_level_mean</th>\n",
              "      <th>p_level_std</th>\n",
              "      <th>unique_seq_rate</th>\n",
              "      <th>seq_std</th>\n",
              "      <th>unique_name_rate</th>\n",
              "      <th>correct_rate_mean</th>\n",
              "      <th>correct_rate_std</th>\n",
              "      <th>type1_rate</th>\n",
              "      <th>type2_rate</th>\n",
              "      <th>type3_rate</th>\n",
              "      <th>type4_rate</th>\n",
              "    </tr>\n",
              "  </thead>\n",
              "  <tbody>\n",
              "    <tr>\n",
              "      <th>0</th>\n",
              "      <td>27.0</td>\n",
              "      <td>3.148148</td>\n",
              "      <td>0.863967</td>\n",
              "      <td>0.518519</td>\n",
              "      <td>4.471499</td>\n",
              "      <td>1.0</td>\n",
              "      <td>53.055867</td>\n",
              "      <td>17.449039</td>\n",
              "      <td>0.0</td>\n",
              "      <td>0.518519</td>\n",
              "      <td>0.0</td>\n",
              "      <td>0.0</td>\n",
              "    </tr>\n",
              "  </tbody>\n",
              "</table>\n",
              "</div>\n",
              "      <button class=\"colab-df-convert\" onclick=\"convertToInteractive('df-7e9aa0e0-e64c-443a-a372-583343947918')\"\n",
              "              title=\"Convert this dataframe to an interactive table.\"\n",
              "              style=\"display:none;\">\n",
              "        \n",
              "  <svg xmlns=\"http://www.w3.org/2000/svg\" height=\"24px\"viewBox=\"0 0 24 24\"\n",
              "       width=\"24px\">\n",
              "    <path d=\"M0 0h24v24H0V0z\" fill=\"none\"/>\n",
              "    <path d=\"M18.56 5.44l.94 2.06.94-2.06 2.06-.94-2.06-.94-.94-2.06-.94 2.06-2.06.94zm-11 1L8.5 8.5l.94-2.06 2.06-.94-2.06-.94L8.5 2.5l-.94 2.06-2.06.94zm10 10l.94 2.06.94-2.06 2.06-.94-2.06-.94-.94-2.06-.94 2.06-2.06.94z\"/><path d=\"M17.41 7.96l-1.37-1.37c-.4-.4-.92-.59-1.43-.59-.52 0-1.04.2-1.43.59L10.3 9.45l-7.72 7.72c-.78.78-.78 2.05 0 2.83L4 21.41c.39.39.9.59 1.41.59.51 0 1.02-.2 1.41-.59l7.78-7.78 2.81-2.81c.8-.78.8-2.07 0-2.86zM5.41 20L4 18.59l7.72-7.72 1.47 1.35L5.41 20z\"/>\n",
              "  </svg>\n",
              "      </button>\n",
              "      \n",
              "  <style>\n",
              "    .colab-df-container {\n",
              "      display:flex;\n",
              "      flex-wrap:wrap;\n",
              "      gap: 12px;\n",
              "    }\n",
              "\n",
              "    .colab-df-convert {\n",
              "      background-color: #E8F0FE;\n",
              "      border: none;\n",
              "      border-radius: 50%;\n",
              "      cursor: pointer;\n",
              "      display: none;\n",
              "      fill: #1967D2;\n",
              "      height: 32px;\n",
              "      padding: 0 0 0 0;\n",
              "      width: 32px;\n",
              "    }\n",
              "\n",
              "    .colab-df-convert:hover {\n",
              "      background-color: #E2EBFA;\n",
              "      box-shadow: 0px 1px 2px rgba(60, 64, 67, 0.3), 0px 1px 3px 1px rgba(60, 64, 67, 0.15);\n",
              "      fill: #174EA6;\n",
              "    }\n",
              "\n",
              "    [theme=dark] .colab-df-convert {\n",
              "      background-color: #3B4455;\n",
              "      fill: #D2E3FC;\n",
              "    }\n",
              "\n",
              "    [theme=dark] .colab-df-convert:hover {\n",
              "      background-color: #434B5C;\n",
              "      box-shadow: 0px 1px 3px 1px rgba(0, 0, 0, 0.15);\n",
              "      filter: drop-shadow(0px 1px 2px rgba(0, 0, 0, 0.3));\n",
              "      fill: #FFFFFF;\n",
              "    }\n",
              "  </style>\n",
              "\n",
              "      <script>\n",
              "        const buttonEl =\n",
              "          document.querySelector('#df-7e9aa0e0-e64c-443a-a372-583343947918 button.colab-df-convert');\n",
              "        buttonEl.style.display =\n",
              "          google.colab.kernel.accessAllowed ? 'block' : 'none';\n",
              "\n",
              "        async function convertToInteractive(key) {\n",
              "          const element = document.querySelector('#df-7e9aa0e0-e64c-443a-a372-583343947918');\n",
              "          const dataTable =\n",
              "            await google.colab.kernel.invokeFunction('convertToInteractive',\n",
              "                                                     [key], {});\n",
              "          if (!dataTable) return;\n",
              "\n",
              "          const docLinkHtml = 'Like what you see? Visit the ' +\n",
              "            '<a target=\"_blank\" href=https://colab.research.google.com/notebooks/data_table.ipynb>data table notebook</a>'\n",
              "            + ' to learn more about interactive tables.';\n",
              "          element.innerHTML = '';\n",
              "          dataTable['output_type'] = 'display_data';\n",
              "          await google.colab.output.renderOutput(dataTable, element);\n",
              "          const docLink = document.createElement('div');\n",
              "          docLink.innerHTML = docLinkHtml;\n",
              "          element.appendChild(docLink);\n",
              "        }\n",
              "      </script>\n",
              "    </div>\n",
              "  </div>\n",
              "  "
            ]
          },
          "metadata": {},
          "execution_count": 7
        }
      ],
      "source": [
        "# (X_features,y_target) 만들기\n",
        "\n",
        "X_features = data.iloc[:, 3:-1]\n",
        "y_target = data.iloc[:, -1]\n",
        "X_features.head(1)"
      ]
    },
    {
      "cell_type": "code",
      "execution_count": 8,
      "metadata": {
        "id": "gksFBOPOl4Hd",
        "outputId": "82c9b2be-9c68-4e54-b071-b922a7a7ebe0",
        "colab": {
          "base_uri": "https://localhost:8080/",
          "height": 0
        }
      },
      "outputs": [
        {
          "output_type": "execute_result",
          "data": {
            "text/plain": [
              "<matplotlib.axes._subplots.AxesSubplot at 0x7f419f74ea60>"
            ]
          },
          "metadata": {},
          "execution_count": 8
        },
        {
          "output_type": "display_data",
          "data": {
            "text/plain": [
              "<Figure size 432x288 with 1 Axes>"
            ],
            "image/png": "[encoded data removed]"
          },
          "metadata": {
            "needs_background": "light"
          }
        }
      ],
      "source": [
        "# 대략적으로 정규분포임으로 딱히 다른 처리를 하지 않고 진행해도 된다.\n",
        "\n",
        "y_target.hist()"
      ]
    },
    {
      "cell_type": "markdown",
      "source": [
        "# 2. 데이터 분할"
      ],
      "metadata": {
        "id": "038kEWIWqfad"
      }
    },
    {
      "cell_type": "code",
      "source": [
        "# 회귀(y값이 연속형변수)의 평가지표\n",
        "\n",
        "from sklearn.metrics import mean_squared_error, mean_absolute_error\n",
        "\n",
        "# 사이킷런의 mean_square_error() 를 이용하여 RMSE 계산\n",
        "def rmse(y,pred):\n",
        "    return np.sqrt(mean_squared_error(y,pred))\n",
        "\n",
        "# MSE, RMSE, RMSLE 를 모두 계산 \n",
        "def evaluate_regr(y,pred):\n",
        "    rmse_val = rmse(y,pred)\n",
        "    # MAE 는 scikit learn의 mean_absolute_error() 로 계산\n",
        "    mae_val = mean_absolute_error(y,pred)\n",
        "    print('RMSE: {0:.3F}, MAE: {1:.3F}'.format(rmse_val, mae_val))\n",
        "    return (rmse_val, mae_val)"
      ],
      "metadata": {
        "id": "aBQ7u3wAtcyb"
      },
      "execution_count": 9,
      "outputs": []
    },
    {
      "cell_type": "markdown",
      "source": [
        "# 3-1. LinearRegression"
      ],
      "metadata": {
        "id": "2xGRWvTntn5e"
      }
    },
    {
      "cell_type": "code",
      "source": [
        "from sklearn.linear_model import LinearRegression\n",
        "from sklearn.model_selection import train_test_split\n",
        "\n",
        "# test/train 분할\n",
        "X_train, X_test, y_train, y_test = train_test_split(X_features, y_target, test_size=0.3, random_state=0)\n",
        "\n",
        "# Model\n",
        "lr_reg = LinearRegression()\n",
        "lr_reg.fit(X_train, y_train)\n",
        "pred = lr_reg.predict(X_test)\n",
        "\n",
        "result = evaluate_regr(y_test, pred)\n",
        "plt.bar(['RMSE','MAE'], result)"
      ],
      "metadata": {
        "colab": {
          "base_uri": "https://localhost:8080/",
          "height": 300
        },
        "id": "UfJt_6Amthqr",
        "outputId": "fc306d1f-dfe1-40e4-d9c9-1032201b65dd"
      },
      "execution_count": 10,
      "outputs": [
        {
          "output_type": "stream",
          "name": "stdout",
          "text": [
            "RMSE: 2.946, MAE: 2.247\n"
          ]
        },
        {
          "output_type": "execute_result",
          "data": {
            "text/plain": [
              "<BarContainer object of 2 artists>"
            ]
          },
          "metadata": {},
          "execution_count": 10
        },
        {
          "output_type": "display_data",
          "data": {
            "text/plain": [
              "<Figure size 432x288 with 1 Axes>"
            ],
            "image/png": "[encoded data removed]"
          },
          "metadata": {
            "needs_background": "light"
          }
        }
      ]
    },
    {
      "cell_type": "code",
      "execution_count": 11,
      "metadata": {
        "id": "D578Oi-Pl4Hd",
        "colab": {
          "base_uri": "https://localhost:8080/",
          "height": 81
        },
        "outputId": "d78a31b8-d8c5-4463-bed3-462a3cb3a219"
      },
      "outputs": [
        {
          "output_type": "execute_result",
          "data": {
            "text/plain": [
              "      p_num  p_level_mean  p_level_std  unique_seq_rate   seq_std  \\\n",
              "0  0.021422      0.537037     0.305458         0.515287  0.234209   \n",
              "\n",
              "   unique_name_rate  correct_rate_mean  correct_rate_std  type1_rate  \\\n",
              "0               1.0            0.54359          0.294405         0.0   \n",
              "\n",
              "   type2_rate  type3_rate  type4_rate     score  \n",
              "0    0.518519         0.0         0.0  0.640728  "
            ],
            "text/html": [
              "\n",
              "  <div id=\"df-ff19294d-d85b-441b-bc68-f68ec6c28d89\">\n",
              "    <div class=\"colab-df-container\">\n",
              "      <div>\n",
              "<style scoped>\n",
              "    .dataframe tbody tr th:only-of-type {\n",
              "        vertical-align: middle;\n",
              "    }\n",
              "\n",
              "    .dataframe tbody tr th {\n",
              "        vertical-align: top;\n",
              "    }\n",
              "\n",
              "    .dataframe thead th {\n",
              "        text-align: right;\n",
              "    }\n",
              "</style>\n",
              "<table border=\"1\" class=\"dataframe\">\n",
              "  <thead>\n",
              "    <tr style=\"text-align: right;\">\n",
              "      <th></th>\n",
              "      <th>p_num</th>\n",
              "      <th>p_level_mean</th>\n",
              "      <th>p_level_std</th>\n",
              "      <th>unique_seq_rate</th>\n",
              "      <th>seq_std</th>\n",
              "      <th>unique_name_rate</th>\n",
              "      <th>correct_rate_mean</th>\n",
              "      <th>correct_rate_std</th>\n",
              "      <th>type1_rate</th>\n",
              "      <th>type2_rate</th>\n",
              "      <th>type3_rate</th>\n",
              "      <th>type4_rate</th>\n",
              "      <th>score</th>\n",
              "    </tr>\n",
              "  </thead>\n",
              "  <tbody>\n",
              "    <tr>\n",
              "      <th>0</th>\n",
              "      <td>0.021422</td>\n",
              "      <td>0.537037</td>\n",
              "      <td>0.305458</td>\n",
              "      <td>0.515287</td>\n",
              "      <td>0.234209</td>\n",
              "      <td>1.0</td>\n",
              "      <td>0.54359</td>\n",
              "      <td>0.294405</td>\n",
              "      <td>0.0</td>\n",
              "      <td>0.518519</td>\n",
              "      <td>0.0</td>\n",
              "      <td>0.0</td>\n",
              "      <td>0.640728</td>\n",
              "    </tr>\n",
              "  </tbody>\n",
              "</table>\n",
              "</div>\n",
              "      <button class=\"colab-df-convert\" onclick=\"convertToInteractive('df-ff19294d-d85b-441b-bc68-f68ec6c28d89')\"\n",
              "              title=\"Convert this dataframe to an interactive table.\"\n",
              "              style=\"display:none;\">\n",
              "        \n",
              "  <svg xmlns=\"http://www.w3.org/2000/svg\" height=\"24px\"viewBox=\"0 0 24 24\"\n",
              "       width=\"24px\">\n",
              "    <path d=\"M0 0h24v24H0V0z\" fill=\"none\"/>\n",
              "    <path d=\"M18.56 5.44l.94 2.06.94-2.06 2.06-.94-2.06-.94-.94-2.06-.94 2.06-2.06.94zm-11 1L8.5 8.5l.94-2.06 2.06-.94-2.06-.94L8.5 2.5l-.94 2.06-2.06.94zm10 10l.94 2.06.94-2.06 2.06-.94-2.06-.94-.94-2.06-.94 2.06-2.06.94z\"/><path d=\"M17.41 7.96l-1.37-1.37c-.4-.4-.92-.59-1.43-.59-.52 0-1.04.2-1.43.59L10.3 9.45l-7.72 7.72c-.78.78-.78 2.05 0 2.83L4 21.41c.39.39.9.59 1.41.59.51 0 1.02-.2 1.41-.59l7.78-7.78 2.81-2.81c.8-.78.8-2.07 0-2.86zM5.41 20L4 18.59l7.72-7.72 1.47 1.35L5.41 20z\"/>\n",
              "  </svg>\n",
              "      </button>\n",
              "      \n",
              "  <style>\n",
              "    .colab-df-container {\n",
              "      display:flex;\n",
              "      flex-wrap:wrap;\n",
              "      gap: 12px;\n",
              "    }\n",
              "\n",
              "    .colab-df-convert {\n",
              "      background-color: #E8F0FE;\n",
              "      border: none;\n",
              "      border-radius: 50%;\n",
              "      cursor: pointer;\n",
              "      display: none;\n",
              "      fill: #1967D2;\n",
              "      height: 32px;\n",
              "      padding: 0 0 0 0;\n",
              "      width: 32px;\n",
              "    }\n",
              "\n",
              "    .colab-df-convert:hover {\n",
              "      background-color: #E2EBFA;\n",
              "      box-shadow: 0px 1px 2px rgba(60, 64, 67, 0.3), 0px 1px 3px 1px rgba(60, 64, 67, 0.15);\n",
              "      fill: #174EA6;\n",
              "    }\n",
              "\n",
              "    [theme=dark] .colab-df-convert {\n",
              "      background-color: #3B4455;\n",
              "      fill: #D2E3FC;\n",
              "    }\n",
              "\n",
              "    [theme=dark] .colab-df-convert:hover {\n",
              "      background-color: #434B5C;\n",
              "      box-shadow: 0px 1px 3px 1px rgba(0, 0, 0, 0.15);\n",
              "      filter: drop-shadow(0px 1px 2px rgba(0, 0, 0, 0.3));\n",
              "      fill: #FFFFFF;\n",
              "    }\n",
              "  </style>\n",
              "\n",
              "      <script>\n",
              "        const buttonEl =\n",
              "          document.querySelector('#df-ff19294d-d85b-441b-bc68-f68ec6c28d89 button.colab-df-convert');\n",
              "        buttonEl.style.display =\n",
              "          google.colab.kernel.accessAllowed ? 'block' : 'none';\n",
              "\n",
              "        async function convertToInteractive(key) {\n",
              "          const element = document.querySelector('#df-ff19294d-d85b-441b-bc68-f68ec6c28d89');\n",
              "          const dataTable =\n",
              "            await google.colab.kernel.invokeFunction('convertToInteractive',\n",
              "                                                     [key], {});\n",
              "          if (!dataTable) return;\n",
              "\n",
              "          const docLinkHtml = 'Like what you see? Visit the ' +\n",
              "            '<a target=\"_blank\" href=https://colab.research.google.com/notebooks/data_table.ipynb>data table notebook</a>'\n",
              "            + ' to learn more about interactive tables.';\n",
              "          element.innerHTML = '';\n",
              "          dataTable['output_type'] = 'display_data';\n",
              "          await google.colab.output.renderOutput(dataTable, element);\n",
              "          const docLink = document.createElement('div');\n",
              "          docLink.innerHTML = docLinkHtml;\n",
              "          element.appendChild(docLink);\n",
              "        }\n",
              "      </script>\n",
              "    </div>\n",
              "  </div>\n",
              "  "
            ]
          },
          "metadata": {},
          "execution_count": 11
        }
      ],
      "source": [
        "# 중요피쳐를 찾아내기 위해, 각 피쳐들을 스케일링해준다.\n",
        "# 이후에 회귀계수의 절댓값이 클수록 중요피쳐로 생각해준다.\n",
        "\n",
        "from sklearn.preprocessing import MinMaxScaler\n",
        "\n",
        "total_data = pd.concat([X_features, y_target], axis=1)\n",
        "\n",
        "scaler = MinMaxScaler()\n",
        "scaler.fit(total_data)\n",
        "trans_data = scaler.transform(total_data)\n",
        "\n",
        "# numpy -> df\n",
        "trans_data_df = pd.DataFrame(data=trans_data, columns=total_data.columns)\n",
        "trans_data_df.head(1) # 0~1 사이의 값들을 가짐을 확인할 수 있다."
      ]
    },
    {
      "cell_type": "code",
      "source": [
        "# 스케일링 이후, 재학습을 시도\n",
        "\n",
        "# X_features : 'score'을 제외한 모든 열\n",
        "X_features_df = trans_data_df.drop(['score'], axis=1, inplace=False)\n",
        "\n",
        "# y_target = 'score'으로 두고 확인\n",
        "y_target_df = trans_data_df.loc[:,'score']\n",
        "y_target_df = y_target_df.reset_index(drop=True)\n",
        "\n",
        "# test/train 분할\n",
        "X_train_trans, X_test, y_train, y_test = train_test_split(X_features_df, y_target_df, test_size=0.3, random_state=0)\n",
        "\n",
        "# Model\n",
        "lr_reg1 = LinearRegression()\n",
        "lr_reg1.fit(X_train, y_train)\n",
        "pred = lr_reg1.predict(X_test)\n",
        "\n",
        "result = evaluate_regr(y_test, pred)\n",
        "plt.bar(['RMSE','MAE'], result) # 0~1로 숫자가 매우 작아, inf값이 나오기도 한다. 하지만 중요한 건 회귀계수의 크기이다."
      ],
      "metadata": {
        "colab": {
          "base_uri": "https://localhost:8080/",
          "height": 300
        },
        "id": "sGZfQmCA00uy",
        "outputId": "15ca2937-d514-4b78-82d6-538b5394a66d"
      },
      "execution_count": 12,
      "outputs": [
        {
          "output_type": "stream",
          "name": "stdout",
          "text": [
            "RMSE: 0.177, MAE: 0.153\n"
          ]
        },
        {
          "output_type": "execute_result",
          "data": {
            "text/plain": [
              "<BarContainer object of 2 artists>"
            ]
          },
          "metadata": {},
          "execution_count": 12
        },
        {
          "output_type": "display_data",
          "data": {
            "text/plain": [
              "<Figure size 432x288 with 1 Axes>"
            ],
            "image/png": "[encoded data removed]"
          },
          "metadata": {
            "needs_background": "light"
          }
        }
      ]
    },
    {
      "cell_type": "code",
      "source": [
        "# 표준화한 회귀계수의 절댓값\n",
        "\n",
        "coef = lr_reg1.coef_\n",
        "coef_abs = np.abs(coef)\n",
        "coef_abs"
      ],
      "metadata": {
        "colab": {
          "base_uri": "https://localhost:8080/"
        },
        "id": "l0PIKPp_1Pji",
        "outputId": "235655fc-7599-4859-a936-8f69bfa06cc4"
      },
      "execution_count": 13,
      "outputs": [
        {
          "output_type": "execute_result",
          "data": {
            "text/plain": [
              "array([0.00019268, 0.01906694, 0.09090696, 0.01941466, 0.00132042,\n",
              "       0.00396172, 0.00098669, 0.00098039, 0.0349695 , 0.00019754,\n",
              "       0.        , 0.        ])"
            ]
          },
          "metadata": {},
          "execution_count": 13
        }
      ]
    },
    {
      "cell_type": "code",
      "source": [
        "# 회귀계수의 절댓값 크기 index\n",
        "\n",
        "idx = coef_abs.argsort()[::-1]\n",
        "idx"
      ],
      "metadata": {
        "colab": {
          "base_uri": "https://localhost:8080/"
        },
        "id": "oHb95yn_1SXz",
        "outputId": "6caec8a0-c94f-4928-fa23-c0d236102f77"
      },
      "execution_count": 14,
      "outputs": [
        {
          "output_type": "execute_result",
          "data": {
            "text/plain": [
              "array([ 2,  8,  3,  1,  5,  4,  6,  7,  9,  0, 11, 10])"
            ]
          },
          "metadata": {},
          "execution_count": 14
        }
      ]
    },
    {
      "cell_type": "code",
      "source": [
        "# 회귀계수의 절댓값을 큰 순서대로 정렬\n",
        "\n",
        "coef = coef[idx]\n",
        "coef_abs = coef_abs[idx]"
      ],
      "metadata": {
        "id": "Ktm_7dUR1Uws"
      },
      "execution_count": 15,
      "outputs": []
    },
    {
      "cell_type": "code",
      "source": [
        "# 회귀계수의 독립변수이름을 큰 순서대로 정렬\n",
        "\n",
        "name = X_features_df.head(1).columns[idx].values\n",
        "name"
      ],
      "metadata": {
        "colab": {
          "base_uri": "https://localhost:8080/"
        },
        "id": "GG17-M-K1WcT",
        "outputId": "4b52b055-f09e-4bc2-8d4e-87b5d2bcd6f2"
      },
      "execution_count": 16,
      "outputs": [
        {
          "output_type": "execute_result",
          "data": {
            "text/plain": [
              "array(['p_level_std', 'type1_rate', 'unique_seq_rate', 'p_level_mean',\n",
              "       'unique_name_rate', 'seq_std', 'correct_rate_mean',\n",
              "       'correct_rate_std', 'type2_rate', 'p_num', 'type4_rate',\n",
              "       'type3_rate'], dtype=object)"
            ]
          },
          "metadata": {},
          "execution_count": 16
        }
      ]
    },
    {
      "cell_type": "code",
      "source": [
        "# top10\n",
        "\n",
        "sns.barplot(name[0:10], coef_abs[0:10])\n",
        "plt.xticks(rotation=45)\n",
        "plt.ylabel('Reg_Coef')\n",
        "plt.title('Reg_Coef per features; TOP10')\n",
        "plt.show()"
      ],
      "metadata": {
        "colab": {
          "base_uri": "https://localhost:8080/",
          "height": 400
        },
        "id": "6pNd-HSZ1Y1i",
        "outputId": "60d537a2-75cd-4070-bb10-57a0a72bcfc7"
      },
      "execution_count": 17,
      "outputs": [
        {
          "output_type": "stream",
          "name": "stderr",
          "text": [
            "/usr/local/lib/python3.8/dist-packages/seaborn/_decorators.py:36: FutureWarning: Pass the following variables as keyword args: x, y. From version 0.12, the only valid positional argument will be `data`, and passing other arguments without an explicit keyword will result in an error or misinterpretation.\n",
            "  warnings.warn(\n"
          ]
        },
        {
          "output_type": "display_data",
          "data": {
            "text/plain": [
              "<Figure size 432x288 with 1 Axes>"
            ],
            "image/png": "[encoded data removed]"
          },
          "metadata": {
            "needs_background": "light"
          }
        }
      ]
    },
    {
      "cell_type": "code",
      "source": [
        "# top3~10\n",
        "\n",
        "sns.barplot(name[3:10], coef[3:10])\n",
        "plt.xticks(rotation=45)\n",
        "plt.ylabel('Reg_Coef')\n",
        "plt.title('Reg_Coef per features; TOP3~10')\n",
        "plt.show()"
      ],
      "metadata": {
        "colab": {
          "base_uri": "https://localhost:8080/",
          "height": 400
        },
        "id": "59AyUToG1b9b",
        "outputId": "2076eabb-8c56-4e9b-a45c-f76d33510ae3"
      },
      "execution_count": 18,
      "outputs": [
        {
          "output_type": "stream",
          "name": "stderr",
          "text": [
            "/usr/local/lib/python3.8/dist-packages/seaborn/_decorators.py:36: FutureWarning: Pass the following variables as keyword args: x, y. From version 0.12, the only valid positional argument will be `data`, and passing other arguments without an explicit keyword will result in an error or misinterpretation.\n",
            "  warnings.warn(\n"
          ]
        },
        {
          "output_type": "display_data",
          "data": {
            "text/plain": [
              "<Figure size 432x288 with 1 Axes>"
            ],
            "image/png": "[encoded data removed]"
          },
          "metadata": {
            "needs_background": "light"
          }
        }
      ]
    },
    {
      "cell_type": "markdown",
      "source": [
        "# 3-2. Ensemble"
      ],
      "metadata": {
        "id": "JNNCX9Ji1oOb"
      }
    },
    {
      "cell_type": "code",
      "source": [
        "# 데이터 분할\n",
        "\n",
        "from sklearn.linear_model import LinearRegression\n",
        "from sklearn.model_selection import train_test_split\n",
        "\n",
        "# test/train 분할\n",
        "X_train, X_test, y_train, y_test = train_test_split(X_features, y_target, test_size=0.3, random_state=0)"
      ],
      "metadata": {
        "id": "OU8KUl-51ndy"
      },
      "execution_count": 19,
      "outputs": []
    },
    {
      "cell_type": "code",
      "source": [
        "def get_model_predict(model, X_train, X_test, y_train, y_test):\n",
        "    model.fit(X_train, y_train)\n",
        "    pred = model.predict(X_test)\n",
        "\n",
        "    print('###',model.__class__.__name__,'###')\n",
        "    (rmse_val, mae_val) = evaluate_regr(y_test, pred)\n",
        "    return (rmse_val, mae_val)\n",
        "\n",
        "# end of function get_model_predict"
      ],
      "metadata": {
        "id": "BJIQLbfU1vO7"
      },
      "execution_count": 20,
      "outputs": []
    },
    {
      "cell_type": "code",
      "source": [
        "from sklearn.ensemble import RandomForestRegressor, GradientBoostingRegressor\n",
        "from xgboost import XGBRegressor\n",
        "from lightgbm import LGBMRegressor\n",
        "\n",
        "result = []\n",
        "# 랜덤 포레스트, GBM, XGBoost, LightGBM model 별로 평가 수행\n",
        "rf_reg = RandomForestRegressor(n_estimators=100)\n",
        "gbm_reg = GradientBoostingRegressor(n_estimators=100)\n",
        "xgb_reg = XGBRegressor(n_estimators=100)\n",
        "lgbm_reg = LGBMRegressor(n_estimators=100)\n",
        "\n",
        "for model in [rf_reg, gbm_reg, xgb_reg, lgbm_reg]:\n",
        "    # XGBoost의 경우 DataFrame이 입력 될 경우 버전에 따라 오류 발생 가능. ndarray로 변환.\n",
        "    result.append(get_model_predict(model,X_train.values, X_test.values, y_train.values, y_test.values))"
      ],
      "metadata": {
        "colab": {
          "base_uri": "https://localhost:8080/"
        },
        "id": "3swEQH3B1z3Q",
        "outputId": "f3b865e6-50db-468a-dc6d-7cd10e4a2e1c"
      },
      "execution_count": 22,
      "outputs": [
        {
          "output_type": "stream",
          "name": "stdout",
          "text": [
            "### RandomForestRegressor ###\n",
            "RMSE: 2.902, MAE: 2.208\n",
            "### GradientBoostingRegressor ###\n",
            "RMSE: 2.923, MAE: 2.230\n",
            "[16:43:09] WARNING: /workspace/src/objective/regression_obj.cu:152: reg:linear is now deprecated in favor of reg:squarederror.\n",
            "### XGBRegressor ###\n",
            "RMSE: 2.924, MAE: 2.230\n",
            "### LGBMRegressor ###\n",
            "RMSE: 2.909, MAE: 2.220\n"
          ]
        }
      ]
    },
    {
      "cell_type": "code",
      "source": [
        "modelname = ['RandomForest','GrandientBoost','XGB','LGBM']\n",
        "\n",
        "for i in range(len(result)):\n",
        "  plt.bar(['rmse; {}'.format(modelname[i]),'mae; {}'.format(modelname[i])], result[i])\n",
        "  plt.xticks(rotation=45)\n",
        "\n",
        "plt.ylabel('Evalution_Measure')\n",
        "plt.title('Evalution_Measure of 4-Ensemble Model')\n",
        "plt.show()"
      ],
      "metadata": {
        "colab": {
          "base_uri": "https://localhost:8080/",
          "height": 356
        },
        "id": "B6vBvIR12Gfx",
        "outputId": "53a2ecd3-9b8f-40ff-f12f-ba37043617bc"
      },
      "execution_count": 24,
      "outputs": [
        {
          "output_type": "display_data",
          "data": {
            "text/plain": [
              "<Figure size 432x288 with 1 Axes>"
            ],
            "image/png": "[encoded data removed]"
          },
          "metadata": {
            "needs_background": "light"
          }
        }
      ]
    },
    {
      "cell_type": "markdown",
      "source": [
        "중요피쳐 확인"
      ],
      "metadata": {
        "id": "TICSMst32I84"
      }
    },
    {
      "cell_type": "code",
      "source": [
        "# 랜덤포레스트 \n",
        "\n",
        "ftr_importances_values = rf_reg.feature_importances_\n",
        "ftr_importances = pd.Series(ftr_importances_values, index=X_features.columns)\n",
        "ftr_top20 = ftr_importances.sort_values(ascending=False)[:20]\n",
        "\n",
        "plt.figure(figsize=(8,6))\n",
        "plt.title('Feature importance Top 20')\n",
        "sns.barplot(x=ftr_top20, y=ftr_top20.index)\n",
        "\n",
        "plt.show()"
      ],
      "metadata": {
        "colab": {
          "base_uri": "https://localhost:8080/",
          "height": 390
        },
        "id": "sRFA9gkT2H-d",
        "outputId": "64be893a-2909-452a-d193-288e6e5185a8"
      },
      "execution_count": 25,
      "outputs": [
        {
          "output_type": "display_data",
          "data": {
            "text/plain": [
              "<Figure size 576x432 with 1 Axes>"
            ],
            "image/png": "[encoded data removed]"
          },
          "metadata": {
            "needs_background": "light"
          }
        }
      ]
    },
    {
      "cell_type": "code",
      "source": [
        "# XGB \n",
        "\n",
        "from xgboost import plot_importance\n",
        "\n",
        "fig, ax = plt.subplots(1,1, figsize=(10,8))\n",
        "plot_importance(xgb_reg, ax=ax, max_num_features=20, height=0.4)"
      ],
      "metadata": {
        "colab": {
          "base_uri": "https://localhost:8080/",
          "height": 530
        },
        "id": "wouX1KSw107M",
        "outputId": "126642d7-c6c8-4d8d-eb40-c6ff6c1f379d"
      },
      "execution_count": 27,
      "outputs": [
        {
          "output_type": "execute_result",
          "data": {
            "text/plain": [
              "<matplotlib.axes._subplots.AxesSubplot at 0x7f418699a550>"
            ]
          },
          "metadata": {},
          "execution_count": 27
        },
        {
          "output_type": "display_data",
          "data": {
            "text/plain": [
              "<Figure size 720x576 with 1 Axes>"
            ],
            "image/png": "[encoded data removed]"
          },
          "metadata": {
            "needs_background": "light"
          }
        }
      ]
    },
    {
      "cell_type": "code",
      "source": [
        "X_features.head(1)"
      ],
      "metadata": {
        "colab": {
          "base_uri": "https://localhost:8080/",
          "height": 81
        },
        "id": "TOgidaPS7H_h",
        "outputId": "71e7c130-09ea-40e3-b1b2-417b2f4ed14e"
      },
      "execution_count": 29,
      "outputs": [
        {
          "output_type": "execute_result",
          "data": {
            "text/plain": [
              "   p_num  p_level_mean  p_level_std  unique_seq_rate   seq_std  \\\n",
              "0   27.0      3.148148     0.863967         0.518519  4.471499   \n",
              "\n",
              "   unique_name_rate  correct_rate_mean  correct_rate_std  type1_rate  \\\n",
              "0               1.0          53.055867         17.449039         0.0   \n",
              "\n",
              "   type2_rate  type3_rate  type4_rate  \n",
              "0    0.518519         0.0         0.0  "
            ],
            "text/html": [
              "\n",
              "  <div id=\"df-a0e7a7d3-0483-4bb8-846d-b848796ea517\">\n",
              "    <div class=\"colab-df-container\">\n",
              "      <div>\n",
              "<style scoped>\n",
              "    .dataframe tbody tr th:only-of-type {\n",
              "        vertical-align: middle;\n",
              "    }\n",
              "\n",
              "    .dataframe tbody tr th {\n",
              "        vertical-align: top;\n",
              "    }\n",
              "\n",
              "    .dataframe thead th {\n",
              "        text-align: right;\n",
              "    }\n",
              "</style>\n",
              "<table border=\"1\" class=\"dataframe\">\n",
              "  <thead>\n",
              "    <tr style=\"text-align: right;\">\n",
              "      <th></th>\n",
              "      <th>p_num</th>\n",
              "      <th>p_level_mean</th>\n",
              "      <th>p_level_std</th>\n",
              "      <th>unique_seq_rate</th>\n",
              "      <th>seq_std</th>\n",
              "      <th>unique_name_rate</th>\n",
              "      <th>correct_rate_mean</th>\n",
              "      <th>correct_rate_std</th>\n",
              "      <th>type1_rate</th>\n",
              "      <th>type2_rate</th>\n",
              "      <th>type3_rate</th>\n",
              "      <th>type4_rate</th>\n",
              "    </tr>\n",
              "  </thead>\n",
              "  <tbody>\n",
              "    <tr>\n",
              "      <th>0</th>\n",
              "      <td>27.0</td>\n",
              "      <td>3.148148</td>\n",
              "      <td>0.863967</td>\n",
              "      <td>0.518519</td>\n",
              "      <td>4.471499</td>\n",
              "      <td>1.0</td>\n",
              "      <td>53.055867</td>\n",
              "      <td>17.449039</td>\n",
              "      <td>0.0</td>\n",
              "      <td>0.518519</td>\n",
              "      <td>0.0</td>\n",
              "      <td>0.0</td>\n",
              "    </tr>\n",
              "  </tbody>\n",
              "</table>\n",
              "</div>\n",
              "      <button class=\"colab-df-convert\" onclick=\"convertToInteractive('df-a0e7a7d3-0483-4bb8-846d-b848796ea517')\"\n",
              "              title=\"Convert this dataframe to an interactive table.\"\n",
              "              style=\"display:none;\">\n",
              "        \n",
              "  <svg xmlns=\"http://www.w3.org/2000/svg\" height=\"24px\"viewBox=\"0 0 24 24\"\n",
              "       width=\"24px\">\n",
              "    <path d=\"M0 0h24v24H0V0z\" fill=\"none\"/>\n",
              "    <path d=\"M18.56 5.44l.94 2.06.94-2.06 2.06-.94-2.06-.94-.94-2.06-.94 2.06-2.06.94zm-11 1L8.5 8.5l.94-2.06 2.06-.94-2.06-.94L8.5 2.5l-.94 2.06-2.06.94zm10 10l.94 2.06.94-2.06 2.06-.94-2.06-.94-.94-2.06-.94 2.06-2.06.94z\"/><path d=\"M17.41 7.96l-1.37-1.37c-.4-.4-.92-.59-1.43-.59-.52 0-1.04.2-1.43.59L10.3 9.45l-7.72 7.72c-.78.78-.78 2.05 0 2.83L4 21.41c.39.39.9.59 1.41.59.51 0 1.02-.2 1.41-.59l7.78-7.78 2.81-2.81c.8-.78.8-2.07 0-2.86zM5.41 20L4 18.59l7.72-7.72 1.47 1.35L5.41 20z\"/>\n",
              "  </svg>\n",
              "      </button>\n",
              "      \n",
              "  <style>\n",
              "    .colab-df-container {\n",
              "      display:flex;\n",
              "      flex-wrap:wrap;\n",
              "      gap: 12px;\n",
              "    }\n",
              "\n",
              "    .colab-df-convert {\n",
              "      background-color: #E8F0FE;\n",
              "      border: none;\n",
              "      border-radius: 50%;\n",
              "      cursor: pointer;\n",
              "      display: none;\n",
              "      fill: #1967D2;\n",
              "      height: 32px;\n",
              "      padding: 0 0 0 0;\n",
              "      width: 32px;\n",
              "    }\n",
              "\n",
              "    .colab-df-convert:hover {\n",
              "      background-color: #E2EBFA;\n",
              "      box-shadow: 0px 1px 2px rgba(60, 64, 67, 0.3), 0px 1px 3px 1px rgba(60, 64, 67, 0.15);\n",
              "      fill: #174EA6;\n",
              "    }\n",
              "\n",
              "    [theme=dark] .colab-df-convert {\n",
              "      background-color: #3B4455;\n",
              "      fill: #D2E3FC;\n",
              "    }\n",
              "\n",
              "    [theme=dark] .colab-df-convert:hover {\n",
              "      background-color: #434B5C;\n",
              "      box-shadow: 0px 1px 3px 1px rgba(0, 0, 0, 0.15);\n",
              "      filter: drop-shadow(0px 1px 2px rgba(0, 0, 0, 0.3));\n",
              "      fill: #FFFFFF;\n",
              "    }\n",
              "  </style>\n",
              "\n",
              "      <script>\n",
              "        const buttonEl =\n",
              "          document.querySelector('#df-a0e7a7d3-0483-4bb8-846d-b848796ea517 button.colab-df-convert');\n",
              "        buttonEl.style.display =\n",
              "          google.colab.kernel.accessAllowed ? 'block' : 'none';\n",
              "\n",
              "        async function convertToInteractive(key) {\n",
              "          const element = document.querySelector('#df-a0e7a7d3-0483-4bb8-846d-b848796ea517');\n",
              "          const dataTable =\n",
              "            await google.colab.kernel.invokeFunction('convertToInteractive',\n",
              "                                                     [key], {});\n",
              "          if (!dataTable) return;\n",
              "\n",
              "          const docLinkHtml = 'Like what you see? Visit the ' +\n",
              "            '<a target=\"_blank\" href=https://colab.research.google.com/notebooks/data_table.ipynb>data table notebook</a>'\n",
              "            + ' to learn more about interactive tables.';\n",
              "          element.innerHTML = '';\n",
              "          dataTable['output_type'] = 'display_data';\n",
              "          await google.colab.output.renderOutput(dataTable, element);\n",
              "          const docLink = document.createElement('div');\n",
              "          docLink.innerHTML = docLinkHtml;\n",
              "          element.appendChild(docLink);\n",
              "        }\n",
              "      </script>\n",
              "    </div>\n",
              "  </div>\n",
              "  "
            ]
          },
          "metadata": {},
          "execution_count": 29
        }
      ]
    },
    {
      "cell_type": "code",
      "source": [
        "# LGBM \n",
        "\n",
        "from lightgbm import plot_importance\n",
        "\n",
        "fig, ax = plt.subplots(1,1, figsize=(10,8))\n",
        "plot_importance(lgbm_reg, ax=ax, max_num_features=20, height=0.4)"
      ],
      "metadata": {
        "colab": {
          "base_uri": "https://localhost:8080/",
          "height": 530
        },
        "id": "-IJZ8bQ32Nvr",
        "outputId": "92759dc2-ce2d-424e-d9c1-a9661ba61339"
      },
      "execution_count": 30,
      "outputs": [
        {
          "output_type": "execute_result",
          "data": {
            "text/plain": [
              "<matplotlib.axes._subplots.AxesSubplot at 0x7f4186922160>"
            ]
          },
          "metadata": {},
          "execution_count": 30
        },
        {
          "output_type": "display_data",
          "data": {
            "text/plain": [
              "<Figure size 720x576 with 1 Axes>"
            ],
            "image/png": "[encoded data removed]"
          },
          "metadata": {
            "needs_background": "light"
          }
        }
      ]
    },
    {
      "cell_type": "code",
      "source": [
        "X_features.head(1)"
      ],
      "metadata": {
        "colab": {
          "base_uri": "https://localhost:8080/",
          "height": 81
        },
        "id": "6ZbO2wf37JVz",
        "outputId": "15eb44e8-c893-46ed-9707-c0635a8a3877"
      },
      "execution_count": 31,
      "outputs": [
        {
          "output_type": "execute_result",
          "data": {
            "text/plain": [
              "   p_num  p_level_mean  p_level_std  unique_seq_rate   seq_std  \\\n",
              "0   27.0      3.148148     0.863967         0.518519  4.471499   \n",
              "\n",
              "   unique_name_rate  correct_rate_mean  correct_rate_std  type1_rate  \\\n",
              "0               1.0          53.055867         17.449039         0.0   \n",
              "\n",
              "   type2_rate  type3_rate  type4_rate  \n",
              "0    0.518519         0.0         0.0  "
            ],
            "text/html": [
              "\n",
              "  <div id=\"df-bb97c446-d93e-4cfb-9ef4-6593396fd0d0\">\n",
              "    <div class=\"colab-df-container\">\n",
              "      <div>\n",
              "<style scoped>\n",
              "    .dataframe tbody tr th:only-of-type {\n",
              "        vertical-align: middle;\n",
              "    }\n",
              "\n",
              "    .dataframe tbody tr th {\n",
              "        vertical-align: top;\n",
              "    }\n",
              "\n",
              "    .dataframe thead th {\n",
              "        text-align: right;\n",
              "    }\n",
              "</style>\n",
              "<table border=\"1\" class=\"dataframe\">\n",
              "  <thead>\n",
              "    <tr style=\"text-align: right;\">\n",
              "      <th></th>\n",
              "      <th>p_num</th>\n",
              "      <th>p_level_mean</th>\n",
              "      <th>p_level_std</th>\n",
              "      <th>unique_seq_rate</th>\n",
              "      <th>seq_std</th>\n",
              "      <th>unique_name_rate</th>\n",
              "      <th>correct_rate_mean</th>\n",
              "      <th>correct_rate_std</th>\n",
              "      <th>type1_rate</th>\n",
              "      <th>type2_rate</th>\n",
              "      <th>type3_rate</th>\n",
              "      <th>type4_rate</th>\n",
              "    </tr>\n",
              "  </thead>\n",
              "  <tbody>\n",
              "    <tr>\n",
              "      <th>0</th>\n",
              "      <td>27.0</td>\n",
              "      <td>3.148148</td>\n",
              "      <td>0.863967</td>\n",
              "      <td>0.518519</td>\n",
              "      <td>4.471499</td>\n",
              "      <td>1.0</td>\n",
              "      <td>53.055867</td>\n",
              "      <td>17.449039</td>\n",
              "      <td>0.0</td>\n",
              "      <td>0.518519</td>\n",
              "      <td>0.0</td>\n",
              "      <td>0.0</td>\n",
              "    </tr>\n",
              "  </tbody>\n",
              "</table>\n",
              "</div>\n",
              "      <button class=\"colab-df-convert\" onclick=\"convertToInteractive('df-bb97c446-d93e-4cfb-9ef4-6593396fd0d0')\"\n",
              "              title=\"Convert this dataframe to an interactive table.\"\n",
              "              style=\"display:none;\">\n",
              "        \n",
              "  <svg xmlns=\"http://www.w3.org/2000/svg\" height=\"24px\"viewBox=\"0 0 24 24\"\n",
              "       width=\"24px\">\n",
              "    <path d=\"M0 0h24v24H0V0z\" fill=\"none\"/>\n",
              "    <path d=\"M18.56 5.44l.94 2.06.94-2.06 2.06-.94-2.06-.94-.94-2.06-.94 2.06-2.06.94zm-11 1L8.5 8.5l.94-2.06 2.06-.94-2.06-.94L8.5 2.5l-.94 2.06-2.06.94zm10 10l.94 2.06.94-2.06 2.06-.94-2.06-.94-.94-2.06-.94 2.06-2.06.94z\"/><path d=\"M17.41 7.96l-1.37-1.37c-.4-.4-.92-.59-1.43-.59-.52 0-1.04.2-1.43.59L10.3 9.45l-7.72 7.72c-.78.78-.78 2.05 0 2.83L4 21.41c.39.39.9.59 1.41.59.51 0 1.02-.2 1.41-.59l7.78-7.78 2.81-2.81c.8-.78.8-2.07 0-2.86zM5.41 20L4 18.59l7.72-7.72 1.47 1.35L5.41 20z\"/>\n",
              "  </svg>\n",
              "      </button>\n",
              "      \n",
              "  <style>\n",
              "    .colab-df-container {\n",
              "      display:flex;\n",
              "      flex-wrap:wrap;\n",
              "      gap: 12px;\n",
              "    }\n",
              "\n",
              "    .colab-df-convert {\n",
              "      background-color: #E8F0FE;\n",
              "      border: none;\n",
              "      border-radius: 50%;\n",
              "      cursor: pointer;\n",
              "      display: none;\n",
              "      fill: #1967D2;\n",
              "      height: 32px;\n",
              "      padding: 0 0 0 0;\n",
              "      width: 32px;\n",
              "    }\n",
              "\n",
              "    .colab-df-convert:hover {\n",
              "      background-color: #E2EBFA;\n",
              "      box-shadow: 0px 1px 2px rgba(60, 64, 67, 0.3), 0px 1px 3px 1px rgba(60, 64, 67, 0.15);\n",
              "      fill: #174EA6;\n",
              "    }\n",
              "\n",
              "    [theme=dark] .colab-df-convert {\n",
              "      background-color: #3B4455;\n",
              "      fill: #D2E3FC;\n",
              "    }\n",
              "\n",
              "    [theme=dark] .colab-df-convert:hover {\n",
              "      background-color: #434B5C;\n",
              "      box-shadow: 0px 1px 3px 1px rgba(0, 0, 0, 0.15);\n",
              "      filter: drop-shadow(0px 1px 2px rgba(0, 0, 0, 0.3));\n",
              "      fill: #FFFFFF;\n",
              "    }\n",
              "  </style>\n",
              "\n",
              "      <script>\n",
              "        const buttonEl =\n",
              "          document.querySelector('#df-bb97c446-d93e-4cfb-9ef4-6593396fd0d0 button.colab-df-convert');\n",
              "        buttonEl.style.display =\n",
              "          google.colab.kernel.accessAllowed ? 'block' : 'none';\n",
              "\n",
              "        async function convertToInteractive(key) {\n",
              "          const element = document.querySelector('#df-bb97c446-d93e-4cfb-9ef4-6593396fd0d0');\n",
              "          const dataTable =\n",
              "            await google.colab.kernel.invokeFunction('convertToInteractive',\n",
              "                                                     [key], {});\n",
              "          if (!dataTable) return;\n",
              "\n",
              "          const docLinkHtml = 'Like what you see? Visit the ' +\n",
              "            '<a target=\"_blank\" href=https://colab.research.google.com/notebooks/data_table.ipynb>data table notebook</a>'\n",
              "            + ' to learn more about interactive tables.';\n",
              "          element.innerHTML = '';\n",
              "          dataTable['output_type'] = 'display_data';\n",
              "          await google.colab.output.renderOutput(dataTable, element);\n",
              "          const docLink = document.createElement('div');\n",
              "          docLink.innerHTML = docLinkHtml;\n",
              "          element.appendChild(docLink);\n",
              "        }\n",
              "      </script>\n",
              "    </div>\n",
              "  </div>\n",
              "  "
            ]
          },
          "metadata": {},
          "execution_count": 31
        }
      ]
    },
    {
      "cell_type": "code",
      "source": [
        "# 하이퍼파라미터 튜닝\n",
        "\n",
        "import random\n",
        "\n",
        "n_estimators = []\n",
        "learning_rate = []\n",
        "for i in range(10):\n",
        "  n_estimators.append(random.randrange(1,10)*100)\n",
        "  learning_rate.append(np.round(random.random(),1)/10)\n",
        "\n",
        "# xgb\n",
        "max_depth = [1,3,5,7]\n",
        "eta = [0.1,0.3,0.5,0.7,0.9]\n",
        "min_child_weight = [1,3,5,7]\n",
        "colsample_bytree = [0.1,0.3,0.5,0.7,0.9]\n",
        "reg_alpha = [0.01,0.03,0.05]\n",
        "\n",
        "# lgbm\n",
        "num_leaves = [32,64]\n",
        "max_depth = [128,160]\n",
        "min_child_samples = [60,100]\n",
        "subsample = [0.8,1]"
      ],
      "metadata": {
        "id": "C53KFfHn2Pv1"
      },
      "execution_count": null,
      "outputs": []
    },
    {
      "cell_type": "code",
      "source": [
        "# xgb-tunning\n",
        "\n",
        "best_parm1 = {'max_depth':0, 'eta':0, 'min_child_weight':0, 'colsample_bytree':0, 'reg_alpha':0}\n",
        "RMSE = 100\n",
        "\n",
        "for a1 in max_depth:\n",
        "  for a2 in eta:\n",
        "    for a3 in min_child_weight:\n",
        "      for a4 in colsample_bytree:\n",
        "        for a5 in reg_alpha:\n",
        "          xgb_reg = XGBRegressor(n_estimators=500, max_depth=a1, eta=a2, min_child_weight=a3, colsample_bytree=a4, reg_alpha=a5)\n",
        "          temp = get_model_predict(xgb_reg, X_train.values, X_test.values, y_train.values, y_test.values, is_expm1=True)\n",
        "          temp = temp[1]\n",
        "          if temp < RMSE:\n",
        "            RMSE = temp\n",
        "            best_parm1['max_depth'] = a1\n",
        "            best_parm1['eta'] = a2\n",
        "            best_parm1['min_child_weight'] = a3\n",
        "            best_parm1['colsample_bytree'] = a4\n",
        "            best_parm1['reg_alpha'] = a5\n",
        "\n",
        "xgb_reg = XGBRegressor(n_estimators=500, max_depth=best_parm1['max_depth'], eta=best_parm1['eta'], min_child_weight=best_parm1['min_child_weight'],\n",
        "                       colsample_bytree=best_parm1['colsample_bytree'], reg_alpha=best_parm1['reg_alpha'])\n",
        "\n",
        "\n",
        "print('-'*30)\n",
        "print(\"best-parameter :\", best_parm1)\n",
        "print(\"RMSE value about best-parameter :\", get_model_predict(xgb_reg,X_train.values, X_test.values, y_train.values, y_test.values,is_expm1=True))\n",
        "\n",
        "# pickle로 저장\n",
        "import pickle\n",
        "with open('/content/drive/MyDrive/xgbPt.pkl','wb') as f:\n",
        "  pickle.dump(best_parm1,f)"
      ],
      "metadata": {
        "id": "gnLnEImV2QGK"
      },
      "execution_count": null,
      "outputs": []
    },
    {
      "cell_type": "code",
      "source": [
        "# lgb-tunning\n",
        "\n",
        "best_parm2 = {'num_leaves':0, 'max_depth':0, 'min_child_samples':0, 'subsample':0}\n",
        "RMSE = 100\n",
        "\n",
        "for a1 in num_leaves:\n",
        "  for a2 in max_depth:\n",
        "    for a3 in min_child_samples:\n",
        "      for a4 in subsample:\n",
        "        lgbm_reg = LGBMRegressor(n_estimators=500, num_leaves=a1, eta=a2, min_child_samples=a3, subsample=a4)\n",
        "        temp = get_model_predict(lgbm_reg, X_train.values, X_test.values, y_train.values, y_test.values, is_expm1=True)\n",
        "        temp = temp[1]\n",
        "        if temp < RMSE:\n",
        "          RMSE = temp\n",
        "          best_parm2['num_leaves'] = a1\n",
        "          best_parm2['max_depth'] = a2\n",
        "          best_parm2['min_child_samples'] = a3\n",
        "          best_parm2['subsample'] = a4\n",
        "\n",
        "lgbm_reg = LGBMRegressor(n_estimators=500, num_leaves=best_parm2['num_leaves'], max_depth=best_parm2['max_depth'], min_child_samples=best_parm2['min_child_samples'],\n",
        "                         subsample=best_parm2['subsample'])\n",
        "\n",
        "\n",
        "print('-'*30)\n",
        "print(\"best-parameter :\", best_parm2)\n",
        "print(\"RMSE value about best-parameter :\", get_model_predict(lgbm_reg, X_train.values, X_test.values, y_train.values, y_test.values,is_expm1=True))\n",
        "\n",
        "# pickle로 저장\n",
        "import pickle\n",
        "with open('/content/drive/MyDrive/lgbmPt.pkl','wb') as f:\n",
        "  pickle.dump(best_parm2,f)\n",
        "     "
      ],
      "metadata": {
        "id": "4SW2GWnj2Uj1"
      },
      "execution_count": null,
      "outputs": []
    },
    {
      "cell_type": "markdown",
      "source": [
        "이후에 다시 feature_importance를 뽑아본다."
      ],
      "metadata": {
        "id": "sIrYuxgs6Dhe"
      }
    }
  ],
  "metadata": {
    "accelerator": "GPU",
    "colab": {
      "machine_shape": "hm",
      "provenance": [],
      "collapsed_sections": [
        "APKJaO9Tl4Hd",
        "038kEWIWqfad",
        "2xGRWvTntn5e"
      ]
    },
    "gpuClass": "standard",
    "kernelspec": {
      "display_name": "Python 3.10.0 ('eyego')",
      "language": "python",
      "name": "python3"
    },
    "language_info": {
      "codemirror_mode": {
        "name": "ipython",
        "version": 3
      },
      "file_extension": ".py",
      "mimetype": "text/x-python",
      "name": "python",
      "nbconvert_exporter": "python",
      "pygments_lexer": "ipython3",
      "version": "3.10.0"
    },
    "vscode": {
      "interpreter": {
        "hash": "c445100005f8a8ea6388734ab49861c0d149987808cbc3e1736ef616e9211ed2"
      }
    }
  },
  "nbformat": 4,
  "nbformat_minor": 0
}